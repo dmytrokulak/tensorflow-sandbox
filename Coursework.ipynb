{
 "cells": [
  {
   "cell_type": "markdown",
   "metadata": {},
   "source": [
    "# Introduction"
   ]
  },
  {
   "cell_type": "markdown",
   "metadata": {},
   "source": [
    "The universal workflow of machine learning given in the chapter 4.5 of \"Deep Learning with Python\" by François Chollet contains five major steps: data loading, data preprocessing, building of a network (model), training the model and testing the model.[1]"
   ]
  },
  {
   "cell_type": "markdown",
   "metadata": {},
   "source": [
    "The dataset we are going to work on is \"ag_news_subset\" which is a collection of more than 100,00 news articles classified into four classes: World, Sports, Business and Sci/Tech [2]. This dataset is a part of Tensoflow datasets package availabe at Tensorflow official website.[3] It has 120,000 training and 7,600 testing samples. The problem we are going to try and solve using this dataset is a text classification\\categorization problem."
   ]
  },
  {
   "cell_type": "markdown",
   "metadata": {},
   "source": [
    "## Common sense baseline"
   ]
  },
  {
   "cell_type": "markdown",
   "metadata": {},
   "source": [
    "A common sense baseline is a way to solve the task using conventional methods not involving the machine learning. Text classification problem like this one could be solved by maitaining category-related vocabularies and calculating statistics of how many words belonging to target categories are found within a piece of text, then choosing the categories which words are most common within the text."
   ]
  },
  {
   "cell_type": "markdown",
   "metadata": {},
   "source": [
    "Let's look at a couple of samples we could find in the \"ag_news_subset\" dataset (without loading it yet, let's consider it a preview)."
   ]
  },
  {
   "cell_type": "markdown",
   "metadata": {},
   "source": [
    "#### Sample 1"
   ]
  },
  {
   "cell_type": "markdown",
   "metadata": {},
   "source": [
    "Dan Olsen of Ponte Vedra Beach, Fla., shot a 7-under 65 Thursday to take a one-shot lead after two rounds of the PGA Tour qualifying tournament.\n",
    "\n",
    "Label: Sports"
   ]
  },
  {
   "cell_type": "markdown",
   "metadata": {},
   "source": [
    "##### Analysis"
   ]
  },
  {
   "cell_type": "markdown",
   "metadata": {},
   "source": [
    "Let's now count the words (leaving out potential stopwords) and try to categorize them and aggregare results."
   ]
  },
  {
   "cell_type": "markdown",
   "metadata": {},
   "source": [
    "World: shot\n",
    "\n",
    "Sports: shot, rounds, PGA, qualifying, tournament\n",
    "\n",
    "Business: qualifying\n",
    "\n",
    "Sci/Tech: -\n",
    "\n",
    "Not categorized: Dan, Olsen, Ponte, Fla, 7-under, 65, Thursday, lead, one-shot, two, tour"
   ]
  },
  {
   "cell_type": "markdown",
   "metadata": {},
   "source": [
    "We can already see issues in this approach: the same word may potentially fall into multiple categories. But in the end we can see that most words which we can definitely categorize belong to the Sports category"
   ]
  },
  {
   "cell_type": "markdown",
   "metadata": {},
   "source": [
    "#### Sample 2"
   ]
  },
  {
   "cell_type": "markdown",
   "metadata": {},
   "source": [
    "KABUL - Taleban-linked militants threatening to kill three UN hostages are accusing the United States of hampering their release, although an Afghan official says a ransom demand is the main stumbling block.\n",
    "\n",
    "Label: World"
   ]
  },
  {
   "cell_type": "markdown",
   "metadata": {},
   "source": [
    "##### Analysis"
   ]
  },
  {
   "cell_type": "markdown",
   "metadata": {},
   "source": [
    "World: Taleban-linked, militants, UN, hostages, accusing, release, ransom, demand\n",
    "\n",
    "Sports: -\n",
    "\n",
    "Business: accusing, release, ransom, demand\n",
    "\n",
    "Sci/Tech: release\n",
    "\n",
    "Not categorized: Kabul, threatening, kill, three, United States, hampering, Afghan, official, main, stumbling block"
   ]
  },
  {
   "cell_type": "markdown",
   "metadata": {},
   "source": [
    "Here we can also see some ambiguity but most of the words belong to the World category."
   ]
  },
  {
   "cell_type": "markdown",
   "metadata": {},
   "source": [
    "#### Summary of common sense baseline"
   ]
  },
  {
   "cell_type": "markdown",
   "metadata": {},
   "source": [
    "This approach can potentially be quite accurate, possibly on par with machine learning model. The actual accuracy depends on the quality of vocabularies assembled for each category. In our analysis above we categorized words ourselfves but if we were to use this in production we would need to use preassambled vocabularies which could be existing English dictionaries or thesauri by the topic of interest. The main difficulty would be procuring (or assembling) such wordlists. Machine learning in is more cost-effective because we do not need to procure (assemble) a new dictionary for a new category if we need to add one e.g. Medicine or Legal. It should also be noted that this approach, although not using machine learning, still relies on natural language processing because we need to stem or lemmatize words to search them in the dictionaries for dictionaries only contain base forms of the words. "
   ]
  },
  {
   "cell_type": "markdown",
   "metadata": {},
   "source": [
    "## Packages installation and import"
   ]
  },
  {
   "cell_type": "markdown",
   "metadata": {},
   "source": [
    "Before we start our work we have to ensure that Tensorflow package, our main tool, or rather a set of tools for machine learning is installed and that Tensorflow dataset package with \"ag_news_subset\" is also in place."
   ]
  },
  {
   "cell_type": "code",
   "execution_count": null,
   "metadata": {
    "scrolled": true
   },
   "outputs": [],
   "source": [
    "!pip install tensorflow "
   ]
  },
  {
   "cell_type": "code",
   "execution_count": null,
   "metadata": {},
   "outputs": [],
   "source": [
    "!pip install tfds-nightly"
   ]
  },
  {
   "cell_type": "markdown",
   "metadata": {},
   "source": [
    "After we have checked the packages we have to import some classes and functions. We are importing well-known numpy and matplotlib modules, some things from Keras to build neural networks and tensorflow datasets to load data from."
   ]
  },
  {
   "cell_type": "code",
   "execution_count": 1,
   "metadata": {},
   "outputs": [],
   "source": [
    "import matplotlib.pyplot as plt\n",
    "import numpy as np\n",
    "\n",
    "from tensorflow.keras.utils import to_categorical\n",
    "from tensorflow.keras import models, layers\n",
    "from tensorflow.keras.preprocessing.text import Tokenizer\n",
    "\n",
    "import tensorflow_datasets as tfds"
   ]
  },
  {
   "cell_type": "markdown",
   "metadata": {},
   "source": [
    "As everything is installed and imported we are ready to start moving down the workflow."
   ]
  },
  {
   "cell_type": "markdown",
   "metadata": {},
   "source": [
    "# Methodology"
   ]
  },
  {
   "cell_type": "markdown",
   "metadata": {},
   "source": [
    "## Data loading"
   ]
  },
  {
   "cell_type": "markdown",
   "metadata": {},
   "source": [
    "Detailed instructions on data loading from tfds are available at the Tensorflow website [4]. We pass the name of the dataset, the split option, instruct data to be shuffled, set as_supervised flag to true to only return a tuples of data and labels instead of dictionary of features and finally instruct to return dataset information in addition to the collection of train and test samples. "
   ]
  },
  {
   "cell_type": "code",
   "execution_count": 2,
   "metadata": {},
   "outputs": [],
   "source": [
    "#Adapted from https://www.tensorflow.org/datasets/overview\n",
    "(ds_train, ds_test), ds_info = tfds.load('ag_news_subset', \n",
    "                        split=['train', 'test'],\n",
    "                        shuffle_files=True,\n",
    "                        as_supervised=True,\n",
    "                        with_info=True)"
   ]
  },
  {
   "cell_type": "markdown",
   "metadata": {},
   "source": [
    "Dataset info contains some basic information about the dataset e.g. name, description, homepage, size in MB etc. What we are really interested in and going to use later at testing is labels."
   ]
  },
  {
   "cell_type": "code",
   "execution_count": 3,
   "metadata": {},
   "outputs": [
    {
     "data": {
      "text/plain": [
       "['World', 'Sports', 'Business', 'Sci/Tech']"
      ]
     },
     "execution_count": 3,
     "metadata": {},
     "output_type": "execute_result"
    }
   ],
   "source": [
    "labels = ds_info.features[\"label\"].names\n",
    "labels"
   ]
  },
  {
   "cell_type": "markdown",
   "metadata": {},
   "source": [
    "Let's check the sizes of train and test datasets and peek into a random sample."
   ]
  },
  {
   "cell_type": "code",
   "execution_count": 4,
   "metadata": {},
   "outputs": [
    {
     "name": "stdout",
     "output_type": "stream",
     "text": [
      "Train samples count 120000\n",
      "Test samples count 7600\n"
     ]
    }
   ],
   "source": [
    "print('Train samples count ' + str(len(ds_train)))\n",
    "print('Test samples count ' + str(len(ds_test)))"
   ]
  },
  {
   "cell_type": "code",
   "execution_count": 5,
   "metadata": {},
   "outputs": [
    {
     "name": "stdout",
     "output_type": "stream",
     "text": [
      "The World Health Organization, UNICEF and other partners are launching a large-scale polio immunization campaign in 23 African countries.\n",
      "World\n"
     ]
    }
   ],
   "source": [
    "for ds in ds_train.skip(9).take(1):\n",
    "    print(ds[0].numpy().decode('utf-8'))\n",
    "    print(labels[ds[1].numpy()])"
   ]
  },
  {
   "cell_type": "markdown",
   "metadata": {},
   "source": [
    "As we can see in the cell above, the description indeed corresponds to the category defined by its label."
   ]
  },
  {
   "cell_type": "markdown",
   "metadata": {},
   "source": [
    "## Data preprocessing"
   ]
  },
  {
   "cell_type": "markdown",
   "metadata": {},
   "source": [
    "### Tokenization"
   ]
  },
  {
   "cell_type": "markdown",
   "metadata": {},
   "source": [
    "The data in the loaded set is in text format. We have to first tokenize it to prepare sets of numerical matrices - the format which Tensorflow can work with. For this purporse we are going to use Keras built-in Tokenizer. We are going to pass all the text from the train samples into the tokenizer, it will prepare vocabulary out of it and then we will be able to transform any text into set of numerical values using this vocabulary."
   ]
  },
  {
   "cell_type": "markdown",
   "metadata": {},
   "source": [
    "Initializing the Tokenizer we are passin num_words argument which the limit on top N words to put into the vocabulary. The larger the vocabulary the more precise the results are but also the more hardware resources the analysis will consume. The value of 35000 the largest dataset I can work with on my machine: it will later require building an array of shape (120000, 35000) of type float32 which will amout to almost 16 GiB of memory."
   ]
  },
  {
   "cell_type": "code",
   "execution_count": 6,
   "metadata": {},
   "outputs": [],
   "source": [
    "NUM_WORDS = 35000"
   ]
  },
  {
   "cell_type": "code",
   "execution_count": 7,
   "metadata": {},
   "outputs": [],
   "source": [
    "# built-in Keras tokenizer\n",
    "tokenizer = Tokenizer(num_words=NUM_WORDS)\n",
    "# all the text from the test data\n",
    "corpus = [x[0].numpy().decode('utf-8') for x in ds_train]\n",
    "# making a vocabulary out of the text\n",
    "tokenizer.fit_on_texts(corpus)"
   ]
  },
  {
   "cell_type": "markdown",
   "metadata": {},
   "source": [
    "Now let's encode our samples with the tokenizer and, in the same time, transform collections of tuples (description, label) into collections of description and labels separately - a format more suitable for further preprocessing."
   ]
  },
  {
   "cell_type": "code",
   "execution_count": 8,
   "metadata": {},
   "outputs": [],
   "source": [
    "def tokenize_and_restructure(ds_samples):\n",
    "    sample_data = []\n",
    "    sample_labels = []\n",
    "\n",
    "    for ds in ds_samples:\n",
    "        sample_data.append(tokenizer.texts_to_sequences([ds[0].numpy().decode('utf-8')])[0])\n",
    "        sample_labels.append(ds[1].numpy())\n",
    "    \n",
    "    return sample_data, sample_labels\n",
    "\n",
    "train_data, train_labels = tokenize_and_restructure(ds_train)\n",
    "test_data, test_labels = tokenize_and_restructure(ds_test)"
   ]
  },
  {
   "cell_type": "markdown",
   "metadata": {},
   "source": [
    "### Vectorization"
   ]
  },
  {
   "cell_type": "markdown",
   "metadata": {},
   "source": [
    "Now our data is a list of integers. It is not something we can pass into a neural network. We have to one-hot encode these lists into vectors of 0s and 1s."
   ]
  },
  {
   "cell_type": "code",
   "execution_count": 9,
   "metadata": {},
   "outputs": [],
   "source": [
    "#Chollet, DLWP, Listing 3.14, page 79\n",
    "\n",
    "def vectorize_sequences(sequences, dimension = NUM_WORDS):\n",
    "    results = np.zeros((len(sequences), dimension),dtype='float32')\n",
    "    for i, sequence in enumerate(sequences):\n",
    "        results[i, sequence] = 1.\n",
    "    return results\n",
    "\n",
    "x_train = vectorize_sequences(train_data)\n",
    "x_test = vectorize_sequences(test_data)\n",
    "\n",
    "y_train = np.asarray(train_labels).astype('float32')\n",
    "y_test = np.asarray(test_labels).astype('float32')"
   ]
  },
  {
   "cell_type": "markdown",
   "metadata": {},
   "source": [
    "And tranform label values to one-hot format."
   ]
  },
  {
   "cell_type": "code",
   "execution_count": 10,
   "metadata": {},
   "outputs": [],
   "source": [
    "#Chollet, DLWP, page 79\n",
    "\n",
    "one_hot_train_labels = to_categorical(train_labels)\n",
    "one_hot_test_labels = to_categorical(test_labels)"
   ]
  },
  {
   "cell_type": "markdown",
   "metadata": {},
   "source": [
    "At this point preprocessing is complete and we can move to the next step in the workflow."
   ]
  },
  {
   "cell_type": "markdown",
   "metadata": {},
   "source": [
    "## Building the model"
   ]
  },
  {
   "cell_type": "markdown",
   "metadata": {},
   "source": [
    "A type of network that performs well on such a topic-classification problem is a  stack of fully connected (Dense) layers with relu activations.[1, page 80]. Dimensionality of the input is the same NUM_WORDS constants used previously to create the vocabulary and preprocess data. The dimension of the last layers is the number of categories."
   ]
  },
  {
   "cell_type": "code",
   "execution_count": 11,
   "metadata": {},
   "outputs": [],
   "source": [
    "def build_model():\n",
    "    #Adapted from Chollet, DLWP, Listing 3.15, page 80\n",
    "    model = models.Sequential()\n",
    "    model.add(layers.Dense(128, activation = 'relu', input_shape = (NUM_WORDS,)))\n",
    "    model.add(layers.Dense(128, activation = 'relu'))\n",
    "    model.add(layers.Dense(len(labels), activation = 'softmax'))\n",
    "    \n",
    "    #Chollet, DLWP, Listing 3.16, page 80\n",
    "    model.compile(optimizer = 'rmsprop', \n",
    "              loss = 'categorical_crossentropy', \n",
    "              metrics = ['accuracy'])\n",
    "    \n",
    "    return model"
   ]
  },
  {
   "cell_type": "markdown",
   "metadata": {},
   "source": [
    "## Training the model"
   ]
  },
  {
   "cell_type": "markdown",
   "metadata": {},
   "source": [
    "### Validation"
   ]
  },
  {
   "cell_type": "markdown",
   "metadata": {},
   "source": [
    "First we build and train a model on a partial set to determine the best number of epochs and avoid overfitting."
   ]
  },
  {
   "cell_type": "code",
   "execution_count": 12,
   "metadata": {},
   "outputs": [
    {
     "name": "stdout",
     "output_type": "stream",
     "text": [
      "Epoch 1/20\n",
      "215/215 [==============================] - 28s 124ms/step - loss: 0.3388 - accuracy: 0.8918 - val_loss: 0.2641 - val_accuracy: 0.9119\n",
      "Epoch 2/20\n",
      "215/215 [==============================] - 24s 110ms/step - loss: 0.2017 - accuracy: 0.9319 - val_loss: 0.2624 - val_accuracy: 0.9136\n",
      "Epoch 3/20\n",
      "215/215 [==============================] - 23s 107ms/step - loss: 0.1595 - accuracy: 0.9461 - val_loss: 0.2794 - val_accuracy: 0.9121\n",
      "Epoch 4/20\n",
      "215/215 [==============================] - 23s 108ms/step - loss: 0.1284 - accuracy: 0.9568 - val_loss: 0.2965 - val_accuracy: 0.9128\n",
      "Epoch 5/20\n",
      "215/215 [==============================] - 23s 108ms/step - loss: 0.1004 - accuracy: 0.9666 - val_loss: 0.3255 - val_accuracy: 0.9103\n",
      "Epoch 6/20\n",
      "215/215 [==============================] - 23s 107ms/step - loss: 0.0758 - accuracy: 0.9755 - val_loss: 0.3453 - val_accuracy: 0.9088\n",
      "Epoch 7/20\n",
      "215/215 [==============================] - 23s 107ms/step - loss: 0.0554 - accuracy: 0.9821 - val_loss: 0.3858 - val_accuracy: 0.9057\n",
      "Epoch 8/20\n",
      "215/215 [==============================] - 23s 107ms/step - loss: 0.0399 - accuracy: 0.9873 - val_loss: 0.4378 - val_accuracy: 0.9043\n",
      "Epoch 9/20\n",
      "215/215 [==============================] - 23s 107ms/step - loss: 0.0299 - accuracy: 0.9903 - val_loss: 0.4423 - val_accuracy: 0.9025\n",
      "Epoch 10/20\n",
      "215/215 [==============================] - 23s 108ms/step - loss: 0.0226 - accuracy: 0.9929 - val_loss: 0.4944 - val_accuracy: 0.9022\n",
      "Epoch 11/20\n",
      "215/215 [==============================] - 23s 108ms/step - loss: 0.0183 - accuracy: 0.9938 - val_loss: 0.5029 - val_accuracy: 0.8986\n",
      "Epoch 12/20\n",
      "215/215 [==============================] - 23s 107ms/step - loss: 0.0147 - accuracy: 0.9952 - val_loss: 0.5223 - val_accuracy: 0.8999\n",
      "Epoch 13/20\n",
      "215/215 [==============================] - 23s 107ms/step - loss: 0.0123 - accuracy: 0.9957 - val_loss: 0.5566 - val_accuracy: 0.8974\n",
      "Epoch 14/20\n",
      "215/215 [==============================] - 23s 108ms/step - loss: 0.0108 - accuracy: 0.9960 - val_loss: 0.5975 - val_accuracy: 0.8969\n",
      "Epoch 15/20\n",
      "215/215 [==============================] - 23s 108ms/step - loss: 0.0097 - accuracy: 0.9965 - val_loss: 0.5994 - val_accuracy: 0.8970\n",
      "Epoch 16/20\n",
      "215/215 [==============================] - 23s 108ms/step - loss: 0.0088 - accuracy: 0.9967 - val_loss: 0.5968 - val_accuracy: 0.8899\n",
      "Epoch 17/20\n",
      "215/215 [==============================] - 23s 108ms/step - loss: 0.0079 - accuracy: 0.9968 - val_loss: 0.6531 - val_accuracy: 0.8968\n",
      "Epoch 18/20\n",
      "215/215 [==============================] - 23s 108ms/step - loss: 0.0076 - accuracy: 0.9969 - val_loss: 0.6387 - val_accuracy: 0.8937\n",
      "Epoch 19/20\n",
      "215/215 [==============================] - 23s 108ms/step - loss: 0.0066 - accuracy: 0.9972 - val_loss: 0.6904 - val_accuracy: 0.8981\n",
      "Epoch 20/20\n",
      "215/215 [==============================] - 23s 107ms/step - loss: 0.0064 - accuracy: 0.9971 - val_loss: 0.7022 - val_accuracy: 0.8966\n"
     ]
    }
   ],
   "source": [
    "#Adapted from Chollet, DLWP, Listing 3.17, page 80\n",
    "x_val = x_train[:10000]\n",
    "partial_x_train = x_train[10000:]\n",
    "\n",
    "y_val = one_hot_train_labels[:10000]\n",
    "partial_y_train = one_hot_train_labels[10000:]\n",
    "\n",
    "model = build_model()\n",
    "\n",
    "#Chollet, DLWP, Listing 3.18, page 81\n",
    "history = model.fit(partial_x_train,\n",
    "                   partial_y_train,\n",
    "                   epochs = 20,\n",
    "                   batch_size = 512,\n",
    "                   validation_data = (x_val, y_val))"
   ]
  },
  {
   "cell_type": "code",
   "execution_count": 13,
   "metadata": {},
   "outputs": [],
   "source": [
    "#Adapted from Chollet, DLWP, Listing 3.19 and 3.20, page 81\n",
    "#and lecture 9.305 Validating your approach of week 17 of CM3015 \n",
    "def plot_epochs(x, \n",
    "               y_A, style_A, label_A,\n",
    "               y_B, style_B, label_B,\n",
    "               title, x_label, y_label):    \n",
    "    plt.clf()\n",
    "    plt.plot(x, y_A, style_A, label = label_A)\n",
    "    plt.plot(x, y_B, style_B, label = label_B)\n",
    "    plt.title(title)\n",
    "    plt.xlabel(x_label)\n",
    "    plt.ylabel(y_label)\n",
    "    plt.legend()\n",
    "    plt.show()\n",
    "\n",
    "loss = history.history['loss']\n",
    "val_loss = history.history['val_loss']\n",
    "acc = history.history['accuracy']\n",
    "val_acc = history.history['val_accuracy']"
   ]
  },
  {
   "cell_type": "code",
   "execution_count": 14,
   "metadata": {},
   "outputs": [
    {
     "data": {
      "image/png": "[encoded data removed]",
      "text/plain": [
       "<Figure size 432x288 with 1 Axes>"
      ]
     },
     "metadata": {
      "needs_background": "light"
     },
     "output_type": "display_data"
    }
   ],
   "source": [
    "#Adapted from Chollet, DLWP, Listing 3.19 and 3.20, page 81\n",
    "#and lecture 9.305 Validating your approach of week 17 of CM3015 \n",
    "plot_epochs(range(1, len(loss) + 1), \n",
    "            loss, 'bo', 'Training',\n",
    "            val_loss, 'b', 'Validation',\n",
    "            'Training and validation loss',\n",
    "            'Epochs',\n",
    "            'Loss')"
   ]
  },
  {
   "cell_type": "code",
   "execution_count": 15,
   "metadata": {},
   "outputs": [
    {
     "data": {
      "image/png": "[encoded data removed]",
      "text/plain": [
       "<Figure size 432x288 with 1 Axes>"
      ]
     },
     "metadata": {
      "needs_background": "light"
     },
     "output_type": "display_data"
    }
   ],
   "source": [
    "#Adapted from Chollet, DLWP, Listing 3.19 and 3.20, page 81\n",
    "#and lecture 9.305 Validating your approach of week 17 of CM3015 \n",
    "plot_epochs(range(1, len(loss) + 1), \n",
    "            acc, 'bo', 'Training',\n",
    "            val_acc, 'b', 'Validation',\n",
    "            'Training and validation accuracy',\n",
    "            'Epochs',\n",
    "            'Accuracy')"
   ]
  },
  {
   "cell_type": "markdown",
   "metadata": {},
   "source": [
    "We can see that validation loss stays is at its minimum value around the second epoch. The second epoch is also a point of the highest accuracy."
   ]
  },
  {
   "cell_type": "code",
   "execution_count": 16,
   "metadata": {},
   "outputs": [],
   "source": [
    "target_epoch_number = 2"
   ]
  },
  {
   "cell_type": "markdown",
   "metadata": {},
   "source": [
    "###  Retrain model on all samples"
   ]
  },
  {
   "cell_type": "code",
   "execution_count": 17,
   "metadata": {},
   "outputs": [
    {
     "name": "stdout",
     "output_type": "stream",
     "text": [
      "Epoch 1/2\n",
      "235/235 [==============================] - 25s 103ms/step - loss: 0.3311 - accuracy: 0.8953\n",
      "Epoch 2/2\n",
      "235/235 [==============================] - 24s 102ms/step - loss: 0.2030 - accuracy: 0.9315\n"
     ]
    },
    {
     "data": {
      "text/plain": [
       "<keras.callbacks.History at 0x24d0cf7f640>"
      ]
     },
     "execution_count": 17,
     "metadata": {},
     "output_type": "execute_result"
    }
   ],
   "source": [
    "#Adapted from Chollet, DLWP, Listing 3.21, page 82\n",
    "\n",
    "model = build_model()\n",
    "\n",
    "model.fit(x_train,\n",
    "           one_hot_train_labels,\n",
    "           epochs = target_epoch_number,\n",
    "           batch_size = 512)"
   ]
  },
  {
   "cell_type": "markdown",
   "metadata": {},
   "source": [
    "# Results"
   ]
  },
  {
   "cell_type": "markdown",
   "metadata": {},
   "source": [
    "### Getting the results"
   ]
  },
  {
   "cell_type": "code",
   "execution_count": 18,
   "metadata": {},
   "outputs": [
    {
     "name": "stdout",
     "output_type": "stream",
     "text": [
      "238/238 [==============================] - 1s 4ms/step - loss: 0.2662 - accuracy: 0.9126\n"
     ]
    },
    {
     "data": {
      "text/plain": [
       "[0.26615315675735474, 0.9126315712928772]"
      ]
     },
     "execution_count": 18,
     "metadata": {},
     "output_type": "execute_result"
    }
   ],
   "source": [
    "#Adapted from Chollet, DLWP, Listing 3.21, page 82\n",
    "results = model.evaluate(x_test, one_hot_test_labels)\n",
    "results"
   ]
  },
  {
   "cell_type": "markdown",
   "metadata": {},
   "source": [
    "### Comparing with baseline model"
   ]
  },
  {
   "cell_type": "markdown",
   "metadata": {},
   "source": [
    "Let's compare accuracy of our model with an accuracy random baseline model."
   ]
  },
  {
   "cell_type": "code",
   "execution_count": 19,
   "metadata": {},
   "outputs": [
    {
     "name": "stdout",
     "output_type": "stream",
     "text": [
      "0.25\n"
     ]
    }
   ],
   "source": [
    "#lecture \"9.307 Generating predictions on new data\" of week 17 of CM3015 \n",
    "totals = np.zeros(4)\n",
    "for i in range(len(train_labels)):\n",
    "    totals[train_labels[i]] += 1\n",
    "indx = np.argmax(totals)\n",
    "hits = np.array(test_labels) == indx\n",
    "print(np.sum(hits) / len(test_labels))"
   ]
  },
  {
   "cell_type": "markdown",
   "metadata": {},
   "source": [
    "Accuracy of a random baseline model is 0.25 which is drastically lower than accuracy of our model."
   ]
  },
  {
   "cell_type": "markdown",
   "metadata": {},
   "source": [
    "### Exploring predictions"
   ]
  },
  {
   "cell_type": "code",
   "execution_count": 20,
   "metadata": {
    "scrolled": true
   },
   "outputs": [
    {
     "name": "stdout",
     "output_type": "stream",
     "text": [
      "indx \t pred \t label\n",
      "0 \t 3 \t 3\n",
      "1 \t 1 \t 1\n",
      "2 \t 1 \t 1\n",
      "3 \t 0 \t 0\n",
      "4 \t 1 \t 1\n",
      "5 \t 0 \t 0\n",
      "6 \t 3 \t 3\n",
      "7 \t 1 \t 1\n",
      "8 \t 2 \t 2\n",
      "9 \t 3 \t 3\n",
      "10 \t 0 \t 0\n",
      "11 \t 0 \t 0\n",
      "12 \t 2 \t 2\n",
      "13 \t 0 \t 0\n",
      "14 \t 0 \t 0\n",
      "15 \t 1 \t 1\n",
      "16 \t 1 \t 1\n",
      "17 \t 3 \t 3\n",
      "18 \t 3 \t 2\n",
      "19 \t 0 \t 0\n",
      "20 \t 2 \t 2\n",
      "21 \t 3 \t 3\n",
      "22 \t 0 \t 0\n",
      "23 \t 2 \t 2\n",
      "24 \t 2 \t 3\n",
      "25 \t 0 \t 0\n",
      "26 \t 3 \t 3\n",
      "27 \t 0 \t 0\n",
      "28 \t 2 \t 2\n",
      "29 \t 3 \t 0\n",
      "30 \t 3 \t 3\n",
      "31 \t 1 \t 3\n",
      "32 \t 2 \t 2\n",
      "33 \t 3 \t 3\n",
      "34 \t 3 \t 2\n",
      "35 \t 3 \t 3\n",
      "36 \t 0 \t 0\n",
      "37 \t 2 \t 3\n",
      "38 \t 1 \t 1\n",
      "39 \t 2 \t 3\n",
      "40 \t 3 \t 0\n",
      "41 \t 2 \t 2\n",
      "42 \t 0 \t 0\n",
      "43 \t 1 \t 1\n",
      "44 \t 2 \t 2\n",
      "45 \t 1 \t 1\n",
      "46 \t 0 \t 0\n",
      "47 \t 1 \t 1\n",
      "48 \t 2 \t 2\n",
      "49 \t 3 \t 3\n",
      "50 \t 0 \t 0\n",
      "51 \t 3 \t 3\n",
      "52 \t 1 \t 1\n",
      "53 \t 2 \t 2\n",
      "54 \t 1 \t 1\n",
      "55 \t 3 \t 3\n",
      "56 \t 2 \t 2\n",
      "57 \t 2 \t 0\n",
      "58 \t 3 \t 3\n",
      "59 \t 2 \t 3\n",
      "60 \t 0 \t 0\n",
      "61 \t 1 \t 1\n",
      "62 \t 1 \t 1\n",
      "63 \t 3 \t 3\n",
      "64 \t 3 \t 3\n",
      "65 \t 2 \t 2\n",
      "66 \t 0 \t 0\n",
      "67 \t 2 \t 3\n",
      "68 \t 3 \t 3\n",
      "69 \t 0 \t 0\n",
      "70 \t 2 \t 2\n",
      "71 \t 3 \t 3\n",
      "72 \t 0 \t 0\n",
      "73 \t 3 \t 3\n",
      "74 \t 1 \t 1\n",
      "75 \t 0 \t 0\n",
      "76 \t 3 \t 3\n",
      "77 \t 1 \t 1\n",
      "78 \t 1 \t 1\n",
      "79 \t 3 \t 2\n",
      "80 \t 0 \t 0\n",
      "81 \t 2 \t 2\n",
      "82 \t 3 \t 3\n",
      "83 \t 0 \t 0\n",
      "84 \t 2 \t 2\n",
      "85 \t 1 \t 1\n",
      "86 \t 0 \t 0\n",
      "87 \t 3 \t 3\n",
      "88 \t 3 \t 3\n",
      "89 \t 1 \t 1\n",
      "90 \t 1 \t 1\n",
      "91 \t 3 \t 3\n",
      "92 \t 2 \t 2\n",
      "93 \t 1 \t 3\n",
      "94 \t 3 \t 3\n",
      "95 \t 0 \t 0\n",
      "96 \t 1 \t 1\n",
      "97 \t 2 \t 2\n",
      "98 \t 0 \t 0\n",
      "99 \t 3 \t 3\n"
     ]
    }
   ],
   "source": [
    "#Ada[ted from lecture \"9.307 Generating predictions on new data\" of week 17 of CM3015 \n",
    "predictions = model.predict(x_test)\n",
    "print('indx','\\t','pred','\\t','label')\n",
    "for i in range(100):\n",
    "    print(i, '\\t', np.argmax(predictions[i]),'\\t', test_labels[i])"
   ]
  },
  {
   "cell_type": "markdown",
   "metadata": {},
   "source": [
    "Let's see into the a misprediction"
   ]
  },
  {
   "cell_type": "code",
   "execution_count": 21,
   "metadata": {},
   "outputs": [
    {
     "name": "stdout",
     "output_type": "stream",
     "text": [
      "Description:\n",
      "accountingweb com october 06 2004 the opening of a trial related to oracle 39 s takeover bid of peoplesoft featured the revelation that ceo craig conway was fired last week for making misleading statements about peoplesoft 39 s sales\n",
      "\n",
      "Predicted:\n",
      "Sci/Tech\n",
      "\n",
      "Actual:\n",
      "Business\n"
     ]
    }
   ],
   "source": [
    "miss_indx = None\n",
    "predicted = None \n",
    "for i, x in enumerate(predictions):\n",
    "    if np.argmax(x) != test_labels[i]:\n",
    "        predicted = np.argmax(x)\n",
    "        miss_indx = i                \n",
    "        break;\n",
    "        \n",
    "print('Description:')\n",
    "print(tokenizer.sequences_to_texts([test_data[miss_indx]])[0])\n",
    "print()\n",
    "print('Predicted:')\n",
    "print(labels[predicted])\n",
    "print()\n",
    "print('Actual:')\n",
    "print(labels[test_labels[i]])"
   ]
  },
  {
   "cell_type": "markdown",
   "metadata": {},
   "source": [
    "We can see that this passage contains keywords from both categories and it is really quite hard to attribute it either to one or to another. I think the misprediciton is justified here."
   ]
  },
  {
   "cell_type": "markdown",
   "metadata": {},
   "source": [
    "# Conclusions"
   ]
  },
  {
   "cell_type": "markdown",
   "metadata": {},
   "source": [
    "We have sucessfully solved a text categorization problem on ag_news_subset dataset using a universal machine learning workflow defined by Francois Chollet in his \"Deep Learning with Python\" book. The data preporcessing included tranforming text data into vectors of floats which we then feed in the deep learning model. We have use validation on subset of training data to determine a number of epoches optimal to avoid overfitting on the training data. The final accuary of the model is above 90% which is significantly higher than a random choice of 25%. The only mispredicitons are likely those which can be equally attributed to different categories even by us humans, for example an article which contains information on stock prices of a tech company with lots of technical details could easily be classified either as Business or as Sci/Tech."
   ]
  },
  {
   "cell_type": "markdown",
   "metadata": {},
   "source": [
    "# Sources"
   ]
  },
  {
   "cell_type": "markdown",
   "metadata": {},
   "source": [
    "1. Chollet, Francois. 2017. Deep Learning with Python. New York, NY: Manning Publications.\n",
    "2. Xiang Zhang, Junbo Zhao and Yann LeCun. 2015. Character-level Convolutional Networks for Text Classification.\n",
    "3. \"AG news subset” Tensorflow. September 04, 2021. https://www.tensorflow.org/datasets/catalog/ag_news_subset.\n",
    "4. \"TensorFlow Datasets” Tensorflow. September 04, 2021. https://www.tensorflow.org/datasets/overview.\n"
   ]
  }
 ],
 "metadata": {
  "kernelspec": {
   "display_name": "Python 3",
   "language": "python",
   "name": "python3"
  },
  "language_info": {
   "codemirror_mode": {
    "name": "ipython",
    "version": 3
   },
   "file_extension": ".py",
   "mimetype": "text/x-python",
   "name": "python",
   "nbconvert_exporter": "python",
   "pygments_lexer": "ipython3",
   "version": "3.8.8"
  }
 },
 "nbformat": 4,
 "nbformat_minor": 4
}
